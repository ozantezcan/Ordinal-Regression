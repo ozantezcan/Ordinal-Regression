{
 "cells": [
  {
   "cell_type": "code",
   "execution_count": 1,
   "metadata": {
    "collapsed": true
   },
   "outputs": [],
   "source": [
    "import numpy as np # linear algebra\n",
    "import pandas as pd # data processing, CSV file I/O (e.g. pd.read_csv)\n",
    "import matplotlib.pyplot as plt\n",
    "import seaborn as sns\n",
    "color = sns.color_palette()\n",
    "\n",
    "%matplotlib inline\n",
    "\n",
    "pd.options.mode.chained_assignment = None\n",
    "pd.options.display.max_columns = 999\n",
    "num_classes=5"
   ]
  },
  {
   "cell_type": "code",
   "execution_count": 2,
   "metadata": {},
   "outputs": [
    {
     "name": "stdout",
     "output_type": "stream",
     "text": [
      "bank32nh.data\n",
      "bank8FM.data\n",
      "bostonhousing\n",
      "cal_housing.data\n",
      "cpu_act.data\n",
      "cpu_small.data\n",
      "house_16H.data\n",
      "house_8L.data\n",
      "\n"
     ]
    }
   ],
   "source": [
    "from subprocess import check_output\n",
    "print(check_output([\"ls\", \"./dataset/regression\"]).decode(\"utf8\"))"
   ]
  },
  {
   "cell_type": "code",
   "execution_count": 3,
   "metadata": {},
   "outputs": [
    {
     "name": "stdout",
     "output_type": "stream",
     "text": [
      "(8192, 33)\n"
     ]
    },
    {
     "data": {
      "text/plain": [
       "(8192, 33)"
      ]
     },
     "execution_count": 3,
     "metadata": {},
     "output_type": "execute_result"
    }
   ],
   "source": [
    "train_df = pd.read_csv(\"./dataset/regression/bank32nh.data\", sep=' ', header=None)\n",
    "train_df=train_df.drop(train_df.columns[-1],axis=1)\n",
    "print(train_df.shape)\n",
    "\n",
    "columns=[\"feat\"+str(k) for k in range(train_df.shape[1])]\n",
    "columns[-1]=\"label\"\n",
    "train_df.columns=columns\n",
    "\n",
    "train_df.shape"
   ]
  },
  {
   "cell_type": "code",
   "execution_count": 4,
   "metadata": {},
   "outputs": [
    {
     "data": {
      "text/html": [
       "<div>\n",
       "<style>\n",
       "    .dataframe thead tr:only-child th {\n",
       "        text-align: right;\n",
       "    }\n",
       "\n",
       "    .dataframe thead th {\n",
       "        text-align: left;\n",
       "    }\n",
       "\n",
       "    .dataframe tbody tr th {\n",
       "        vertical-align: top;\n",
       "    }\n",
       "</style>\n",
       "<table border=\"1\" class=\"dataframe\">\n",
       "  <thead>\n",
       "    <tr style=\"text-align: right;\">\n",
       "      <th></th>\n",
       "      <th>feat0</th>\n",
       "      <th>feat1</th>\n",
       "      <th>feat2</th>\n",
       "      <th>feat3</th>\n",
       "      <th>feat4</th>\n",
       "      <th>feat5</th>\n",
       "      <th>feat6</th>\n",
       "      <th>feat7</th>\n",
       "      <th>feat8</th>\n",
       "      <th>feat9</th>\n",
       "      <th>feat10</th>\n",
       "      <th>feat11</th>\n",
       "      <th>feat12</th>\n",
       "      <th>feat13</th>\n",
       "      <th>feat14</th>\n",
       "      <th>feat15</th>\n",
       "      <th>feat16</th>\n",
       "      <th>feat17</th>\n",
       "      <th>feat18</th>\n",
       "      <th>feat19</th>\n",
       "      <th>feat20</th>\n",
       "      <th>feat21</th>\n",
       "      <th>feat22</th>\n",
       "      <th>feat23</th>\n",
       "      <th>feat24</th>\n",
       "      <th>feat25</th>\n",
       "      <th>feat26</th>\n",
       "      <th>feat27</th>\n",
       "      <th>feat28</th>\n",
       "      <th>feat29</th>\n",
       "      <th>feat30</th>\n",
       "      <th>feat31</th>\n",
       "      <th>label</th>\n",
       "    </tr>\n",
       "  </thead>\n",
       "  <tbody>\n",
       "    <tr>\n",
       "      <th>0</th>\n",
       "      <td>0.413010</td>\n",
       "      <td>0.607442</td>\n",
       "      <td>0.332608</td>\n",
       "      <td>0.406812</td>\n",
       "      <td>-0.151224</td>\n",
       "      <td>1.525222</td>\n",
       "      <td>-0.144368</td>\n",
       "      <td>0.852368</td>\n",
       "      <td>0.412397</td>\n",
       "      <td>1.728169</td>\n",
       "      <td>-0.449231</td>\n",
       "      <td>4.078482</td>\n",
       "      <td>0.232042</td>\n",
       "      <td>-0.323190</td>\n",
       "      <td>0.792235</td>\n",
       "      <td>0.421474</td>\n",
       "      <td>-0.307503</td>\n",
       "      <td>3.086689</td>\n",
       "      <td>0.363949</td>\n",
       "      <td>0.441308</td>\n",
       "      <td>-0.276851</td>\n",
       "      <td>2.0</td>\n",
       "      <td>1.974706</td>\n",
       "      <td>-0.776759</td>\n",
       "      <td>-0.783770</td>\n",
       "      <td>8.0</td>\n",
       "      <td>0.603486</td>\n",
       "      <td>-0.997118</td>\n",
       "      <td>-0.502138</td>\n",
       "      <td>5.0</td>\n",
       "      <td>1.169388</td>\n",
       "      <td>9.0</td>\n",
       "      <td>0.049118</td>\n",
       "    </tr>\n",
       "    <tr>\n",
       "      <th>1</th>\n",
       "      <td>-0.602384</td>\n",
       "      <td>0.350618</td>\n",
       "      <td>0.429196</td>\n",
       "      <td>0.414476</td>\n",
       "      <td>-0.124489</td>\n",
       "      <td>4.597991</td>\n",
       "      <td>0.579458</td>\n",
       "      <td>0.651134</td>\n",
       "      <td>0.104394</td>\n",
       "      <td>0.636356</td>\n",
       "      <td>-0.283787</td>\n",
       "      <td>3.546643</td>\n",
       "      <td>0.115860</td>\n",
       "      <td>0.409074</td>\n",
       "      <td>2.152997</td>\n",
       "      <td>0.758680</td>\n",
       "      <td>0.341127</td>\n",
       "      <td>1.478951</td>\n",
       "      <td>0.662488</td>\n",
       "      <td>0.462398</td>\n",
       "      <td>0.339673</td>\n",
       "      <td>6.0</td>\n",
       "      <td>0.798979</td>\n",
       "      <td>-0.002820</td>\n",
       "      <td>-0.080542</td>\n",
       "      <td>2.0</td>\n",
       "      <td>1.125542</td>\n",
       "      <td>-0.983397</td>\n",
       "      <td>-0.107632</td>\n",
       "      <td>5.0</td>\n",
       "      <td>1.186039</td>\n",
       "      <td>7.0</td>\n",
       "      <td>0.242579</td>\n",
       "    </tr>\n",
       "    <tr>\n",
       "      <th>2</th>\n",
       "      <td>-0.322881</td>\n",
       "      <td>-0.538491</td>\n",
       "      <td>1.602260</td>\n",
       "      <td>0.039605</td>\n",
       "      <td>0.196023</td>\n",
       "      <td>1.909005</td>\n",
       "      <td>-0.675672</td>\n",
       "      <td>0.963618</td>\n",
       "      <td>0.147458</td>\n",
       "      <td>1.414008</td>\n",
       "      <td>0.495453</td>\n",
       "      <td>0.056459</td>\n",
       "      <td>-0.163151</td>\n",
       "      <td>0.350221</td>\n",
       "      <td>1.124090</td>\n",
       "      <td>1.398160</td>\n",
       "      <td>-0.456921</td>\n",
       "      <td>1.600723</td>\n",
       "      <td>0.650252</td>\n",
       "      <td>-0.247380</td>\n",
       "      <td>0.318002</td>\n",
       "      <td>3.0</td>\n",
       "      <td>0.577355</td>\n",
       "      <td>-0.952645</td>\n",
       "      <td>-0.571600</td>\n",
       "      <td>5.0</td>\n",
       "      <td>1.280392</td>\n",
       "      <td>0.771129</td>\n",
       "      <td>-0.665756</td>\n",
       "      <td>5.0</td>\n",
       "      <td>1.024203</td>\n",
       "      <td>6.0</td>\n",
       "      <td>0.000000</td>\n",
       "    </tr>\n",
       "    <tr>\n",
       "      <th>3</th>\n",
       "      <td>-0.233570</td>\n",
       "      <td>-0.936451</td>\n",
       "      <td>1.710192</td>\n",
       "      <td>2.179527</td>\n",
       "      <td>0.438461</td>\n",
       "      <td>4.742055</td>\n",
       "      <td>-0.163625</td>\n",
       "      <td>-0.923273</td>\n",
       "      <td>0.597622</td>\n",
       "      <td>0.118409</td>\n",
       "      <td>0.229981</td>\n",
       "      <td>3.209085</td>\n",
       "      <td>-0.165046</td>\n",
       "      <td>0.012872</td>\n",
       "      <td>0.398148</td>\n",
       "      <td>1.335824</td>\n",
       "      <td>0.119910</td>\n",
       "      <td>13.070052</td>\n",
       "      <td>0.308221</td>\n",
       "      <td>-0.743841</td>\n",
       "      <td>0.258362</td>\n",
       "      <td>4.0</td>\n",
       "      <td>0.760084</td>\n",
       "      <td>-0.198235</td>\n",
       "      <td>-0.205276</td>\n",
       "      <td>2.0</td>\n",
       "      <td>0.509727</td>\n",
       "      <td>-0.579544</td>\n",
       "      <td>0.480094</td>\n",
       "      <td>6.0</td>\n",
       "      <td>1.568492</td>\n",
       "      <td>7.0</td>\n",
       "      <td>0.469045</td>\n",
       "    </tr>\n",
       "    <tr>\n",
       "      <th>4</th>\n",
       "      <td>0.403126</td>\n",
       "      <td>0.313367</td>\n",
       "      <td>0.822382</td>\n",
       "      <td>1.393975</td>\n",
       "      <td>0.253435</td>\n",
       "      <td>9.398630</td>\n",
       "      <td>0.312528</td>\n",
       "      <td>0.288321</td>\n",
       "      <td>0.431867</td>\n",
       "      <td>0.110369</td>\n",
       "      <td>0.294665</td>\n",
       "      <td>1.274100</td>\n",
       "      <td>0.328350</td>\n",
       "      <td>-0.288962</td>\n",
       "      <td>0.067075</td>\n",
       "      <td>0.632938</td>\n",
       "      <td>0.148618</td>\n",
       "      <td>3.633846</td>\n",
       "      <td>0.233204</td>\n",
       "      <td>-0.685285</td>\n",
       "      <td>-0.758206</td>\n",
       "      <td>6.0</td>\n",
       "      <td>1.170067</td>\n",
       "      <td>0.573352</td>\n",
       "      <td>0.315217</td>\n",
       "      <td>2.0</td>\n",
       "      <td>0.622033</td>\n",
       "      <td>-0.134747</td>\n",
       "      <td>0.669948</td>\n",
       "      <td>3.0</td>\n",
       "      <td>1.295913</td>\n",
       "      <td>9.0</td>\n",
       "      <td>0.000000</td>\n",
       "    </tr>\n",
       "  </tbody>\n",
       "</table>\n",
       "</div>"
      ],
      "text/plain": [
       "      feat0     feat1     feat2     feat3     feat4     feat5     feat6  \\\n",
       "0  0.413010  0.607442  0.332608  0.406812 -0.151224  1.525222 -0.144368   \n",
       "1 -0.602384  0.350618  0.429196  0.414476 -0.124489  4.597991  0.579458   \n",
       "2 -0.322881 -0.538491  1.602260  0.039605  0.196023  1.909005 -0.675672   \n",
       "3 -0.233570 -0.936451  1.710192  2.179527  0.438461  4.742055 -0.163625   \n",
       "4  0.403126  0.313367  0.822382  1.393975  0.253435  9.398630  0.312528   \n",
       "\n",
       "      feat7     feat8     feat9    feat10    feat11    feat12    feat13  \\\n",
       "0  0.852368  0.412397  1.728169 -0.449231  4.078482  0.232042 -0.323190   \n",
       "1  0.651134  0.104394  0.636356 -0.283787  3.546643  0.115860  0.409074   \n",
       "2  0.963618  0.147458  1.414008  0.495453  0.056459 -0.163151  0.350221   \n",
       "3 -0.923273  0.597622  0.118409  0.229981  3.209085 -0.165046  0.012872   \n",
       "4  0.288321  0.431867  0.110369  0.294665  1.274100  0.328350 -0.288962   \n",
       "\n",
       "     feat14    feat15    feat16     feat17    feat18    feat19    feat20  \\\n",
       "0  0.792235  0.421474 -0.307503   3.086689  0.363949  0.441308 -0.276851   \n",
       "1  2.152997  0.758680  0.341127   1.478951  0.662488  0.462398  0.339673   \n",
       "2  1.124090  1.398160 -0.456921   1.600723  0.650252 -0.247380  0.318002   \n",
       "3  0.398148  1.335824  0.119910  13.070052  0.308221 -0.743841  0.258362   \n",
       "4  0.067075  0.632938  0.148618   3.633846  0.233204 -0.685285 -0.758206   \n",
       "\n",
       "   feat21    feat22    feat23    feat24  feat25    feat26    feat27    feat28  \\\n",
       "0     2.0  1.974706 -0.776759 -0.783770     8.0  0.603486 -0.997118 -0.502138   \n",
       "1     6.0  0.798979 -0.002820 -0.080542     2.0  1.125542 -0.983397 -0.107632   \n",
       "2     3.0  0.577355 -0.952645 -0.571600     5.0  1.280392  0.771129 -0.665756   \n",
       "3     4.0  0.760084 -0.198235 -0.205276     2.0  0.509727 -0.579544  0.480094   \n",
       "4     6.0  1.170067  0.573352  0.315217     2.0  0.622033 -0.134747  0.669948   \n",
       "\n",
       "   feat29    feat30  feat31     label  \n",
       "0     5.0  1.169388     9.0  0.049118  \n",
       "1     5.0  1.186039     7.0  0.242579  \n",
       "2     5.0  1.024203     6.0  0.000000  \n",
       "3     6.0  1.568492     7.0  0.469045  \n",
       "4     3.0  1.295913     9.0  0.000000  "
      ]
     },
     "execution_count": 4,
     "metadata": {},
     "output_type": "execute_result"
    }
   ],
   "source": [
    "train_df.head()"
   ]
  },
  {
   "cell_type": "code",
   "execution_count": null,
   "metadata": {
    "collapsed": true
   },
   "outputs": [],
   "source": []
  },
  {
   "cell_type": "code",
   "execution_count": null,
   "metadata": {
    "collapsed": true
   },
   "outputs": [],
   "source": []
  },
  {
   "cell_type": "code",
   "execution_count": 5,
   "metadata": {},
   "outputs": [
    {
     "name": "stdout",
     "output_type": "stream",
     "text": [
      "1638.4\n",
      "[0.0, 0.0001, 0.012395000000000002, 0.051264999999999998, 0.15377600000000002, 1.8201649999999998]\n",
      "[False False  True ..., False False False]\n",
      "[False False False ...,  True False False]\n",
      "[ True False False ..., False  True False]\n",
      "[False False False ..., False False  True]\n",
      "[False  True False ..., False False False]\n",
      "[ 2.  4.  0. ...,  1.  2.  3.]\n",
      "      feat0     feat1     feat2     feat3     feat4     feat5     feat6  \\\n",
      "0  0.413010  0.607442  0.332608  0.406812 -0.151224  1.525222 -0.144368   \n",
      "1 -0.602384  0.350618  0.429196  0.414476 -0.124489  4.597991  0.579458   \n",
      "2 -0.322881 -0.538491  1.602260  0.039605  0.196023  1.909005 -0.675672   \n",
      "3 -0.233570 -0.936451  1.710192  2.179527  0.438461  4.742055 -0.163625   \n",
      "4  0.403126  0.313367  0.822382  1.393975  0.253435  9.398630  0.312528   \n",
      "\n",
      "      feat7     feat8     feat9    feat10    feat11    feat12    feat13  \\\n",
      "0  0.852368  0.412397  1.728169 -0.449231  4.078482  0.232042 -0.323190   \n",
      "1  0.651134  0.104394  0.636356 -0.283787  3.546643  0.115860  0.409074   \n",
      "2  0.963618  0.147458  1.414008  0.495453  0.056459 -0.163151  0.350221   \n",
      "3 -0.923273  0.597622  0.118409  0.229981  3.209085 -0.165046  0.012872   \n",
      "4  0.288321  0.431867  0.110369  0.294665  1.274100  0.328350 -0.288962   \n",
      "\n",
      "     feat14    feat15    feat16     feat17    feat18    feat19    feat20  \\\n",
      "0  0.792235  0.421474 -0.307503   3.086689  0.363949  0.441308 -0.276851   \n",
      "1  2.152997  0.758680  0.341127   1.478951  0.662488  0.462398  0.339673   \n",
      "2  1.124090  1.398160 -0.456921   1.600723  0.650252 -0.247380  0.318002   \n",
      "3  0.398148  1.335824  0.119910  13.070052  0.308221 -0.743841  0.258362   \n",
      "4  0.067075  0.632938  0.148618   3.633846  0.233204 -0.685285 -0.758206   \n",
      "\n",
      "   feat21    feat22    feat23    feat24  feat25    feat26    feat27    feat28  \\\n",
      "0     2.0  1.974706 -0.776759 -0.783770     8.0  0.603486 -0.997118 -0.502138   \n",
      "1     6.0  0.798979 -0.002820 -0.080542     2.0  1.125542 -0.983397 -0.107632   \n",
      "2     3.0  0.577355 -0.952645 -0.571600     5.0  1.280392  0.771129 -0.665756   \n",
      "3     4.0  0.760084 -0.198235 -0.205276     2.0  0.509727 -0.579544  0.480094   \n",
      "4     6.0  1.170067  0.573352  0.315217     2.0  0.622033 -0.134747  0.669948   \n",
      "\n",
      "   feat29    feat30  feat31     label  label_ord  \n",
      "0     5.0  1.169388     9.0  0.049118        2.0  \n",
      "1     5.0  1.186039     7.0  0.242579        4.0  \n",
      "2     5.0  1.024203     6.0  0.000000        0.0  \n",
      "3     6.0  1.568492     7.0  0.469045        4.0  \n",
      "4     3.0  1.295913     9.0  0.000000        0.0  \n"
     ]
    },
    {
     "data": {
      "image/png": "[encoded data removed]",
      "text/plain": [
       "<matplotlib.figure.Figure at 0x10e746400>"
      ]
     },
     "metadata": {},
     "output_type": "display_data"
    }
   ],
   "source": [
    "#train_df['label_ord']=train_df['label']\n",
    "label=train_df.label.values\n",
    "sorted_idx=np.argsort(train_df.label.values)\n",
    "num_samples_per_class=train_df.shape[0]/num_classes\n",
    "print(num_samples_per_class)\n",
    "\n",
    "bins=[(k*1e-4+label[sorted_idx[np.round(k*num_samples_per_class-1).astype(np.int)]]) for k in range(1,num_classes+1)]\n",
    "bins.insert(0,0.0)\n",
    "bins[-1]=bins[-1]+1\n",
    "print(bins)\n",
    "\n",
    "label_ord=label.copy()\n",
    "for k in range(num_classes):\n",
    "    print(np.all([label>=bins[k], label<bins[k+1]],0))\n",
    "    label_ord[np.all([label>=bins[k], label<bins[k+1]],0)]=k\n",
    "    \n",
    "print(label_ord)\n",
    "\n",
    "\n",
    "train_df['label_ord']=label_ord\n",
    "print(train_df.head())\n",
    "\n",
    "plt.scatter(label,label_ord)\n",
    "plt.show()\n"
   ]
  },
  {
   "cell_type": "code",
   "execution_count": 6,
   "metadata": {},
   "outputs": [
    {
     "data": {
      "text/plain": [
       "<matplotlib.text.Text at 0x1a1d6bf390>"
      ]
     },
     "execution_count": 6,
     "metadata": {},
     "output_type": "execute_result"
    },
    {
     "data": {
      "image/png": "[encoded data removed]",
      "text/plain": [
       "<matplotlib.figure.Figure at 0x1a1425f518>"
      ]
     },
     "metadata": {},
     "output_type": "display_data"
    }
   ],
   "source": [
    "plt.figure(figsize=(8,6))\n",
    "plt.scatter(range(train_df.shape[0]), label[sorted_idx],s=3,c=np.sort(label_ord[sorted_idx]))\n",
    "plt.xlabel('index', fontsize=12)\n",
    "plt.ylabel('label', fontsize=12)\n"
   ]
  },
  {
   "cell_type": "code",
   "execution_count": 7,
   "metadata": {},
   "outputs": [
    {
     "data": {
      "text/plain": [
       "<matplotlib.text.Text at 0x1a1d6b60b8>"
      ]
     },
     "execution_count": 7,
     "metadata": {},
     "output_type": "execute_result"
    },
    {
     "data": {
      "image/png": "[encoded data removed]",
      "text/plain": [
       "<matplotlib.figure.Figure at 0x1a1d622a90>"
      ]
     },
     "metadata": {},
     "output_type": "display_data"
    }
   ],
   "source": [
    "'''ulimit = np.percentile(train_df.label.values, 98)\n",
    "llimit = np.percentile(train_df.label.values, 2)\n",
    "train_df['label'].ix[train_df['label']>ulimit] = ulimit\n",
    "train_df['label'].ix[train_df['label']<llimit] = llimit'''\n",
    "\n",
    "plt.figure(figsize=(12,8))\n",
    "sns.distplot(train_df.label.values, bins=50, kde=False)\n",
    "plt.xlabel('label', fontsize=12)\n"
   ]
  },
  {
   "cell_type": "markdown",
   "metadata": {},
   "source": [
    "# Training - Validation Split"
   ]
  },
  {
   "cell_type": "code",
   "execution_count": 8,
   "metadata": {},
   "outputs": [
    {
     "name": "stdout",
     "output_type": "stream",
     "text": [
      "[ -3.46686086e-03  -9.20904637e-04  -8.03606985e-01  -7.73078363e-01\n",
      "  -3.56635604e-03  -7.72843486e-01  -1.18393606e-04  -9.97569510e-04\n",
      "  -7.48644283e-01  -8.52985102e-01  -2.84872124e-03  -7.72901335e-01\n",
      "  -6.64816878e-03  -1.01483779e-03  -7.10571434e-01  -7.82965571e-01\n",
      "  -5.51937200e-03  -8.13909000e-01   6.02760301e-03   6.02673678e-03\n",
      "   1.52910570e-03  -3.44319661e-01  -2.20519716e-03  -1.63086888e-02\n",
      "   1.64501047e-03  -3.35123698e-01  -3.73533559e-03   8.63693798e-04\n",
      "   1.63181312e-03  -3.29711914e-01  -1.04553928e-02   1.46484375e-03]\n",
      "[-1. -1. -1. -1. -1. -1. -1. -1. -1. -1. -1. -1. -1. -1. -1. -1. -1. -1.\n",
      " -1. -1. -1. -1. -1. -1. -1. -1. -1. -1. -1. -1. -1. -1.]\n",
      "(8192, 32)\n",
      "[2 4 0 ..., 1 2 3]\n"
     ]
    }
   ],
   "source": [
    "feat=train_df.values[:,:-2]\n",
    "\n",
    "#Normalize the features\n",
    "\n",
    "feat_max = np.amax(feat,axis=0)\n",
    "feat_min = np.amin(feat,axis=0)\n",
    "\n",
    "feat=(feat-feat_min)/(feat_max-feat_min)\n",
    "feat=feat*2-1\n",
    "\n",
    "'''feat_mean = np.mean(feat,axis=0)\n",
    "feat_std = np.std(feat,axis=0)\n",
    "\n",
    "feat=(feat-feat_mean)/feat_std\n",
    "'''\n",
    "label_ord=train_df.values[:,-1].astype(np.int)\n",
    "\n",
    "print(np.mean(feat,axis=0))\n",
    "print(np.min(feat,axis=0))\n",
    "print(feat.shape)\n",
    "print(label_ord)\n",
    "\n",
    "fvec=feat.copy()\n",
    "#label=np.eye(num_classes)[label_ord]\n",
    "#print(label)\n"
   ]
  },
  {
   "cell_type": "code",
   "execution_count": 9,
   "metadata": {},
   "outputs": [
    {
     "name": "stdout",
     "output_type": "stream",
     "text": [
      "(1000,)\n",
      "(7192,)\n",
      "(1000, 32)\n",
      "(7192, 32)\n"
     ]
    }
   ],
   "source": [
    "test_size = 1000\n",
    "\n",
    "test_idx=sorted_idx[np.floor(np.linspace(0,len(label_ord)-1,test_size)).astype(np.int)]\n",
    "train_idx = np.setdiff1d(np.arange(0,len(label_ord)),test_idx)\n",
    "\n",
    "\n",
    "\n",
    "label_ord_test=label_ord[test_idx]\n",
    "label_ord_train=label_ord[train_idx]\n",
    "#label_test=np.eye(num_classes)[label_ord_test]\n",
    "#label_train=np.eye(num_classes)[label_ord_train]\n",
    "fvec_test=fvec[test_idx,:]\n",
    "fvec_train=fvec[train_idx,:]\n",
    "\n",
    "print(label_ord_test.shape)\n",
    "print(label_ord_train.shape)\n",
    "print(fvec_test.shape)\n",
    "print(fvec_train.shape)"
   ]
  },
  {
   "cell_type": "code",
   "execution_count": 10,
   "metadata": {},
   "outputs": [
    {
     "name": "stdout",
     "output_type": "stream",
     "text": [
      "Coefficients: \n",
      " [ -1.88317491e-02   1.64733924e-02  -1.00358358e-01  -7.12058869e-02\n",
      "  -1.01446282e-02   2.00886136e+00   7.72151419e-03   1.67966693e-03\n",
      "  -1.51213653e-01  -3.32255414e-01  -3.06772015e-03   3.00310220e+00\n",
      "  -1.85726251e-02   3.62893444e-02  -9.81725267e-02  -6.81625413e-02\n",
      "   1.99362178e-03   2.35966383e+00  -1.72680852e-01   2.79800411e-03\n",
      "  -9.64941303e-03   1.53275991e-01  -1.90156013e-01  -3.18897837e-02\n",
      "  -5.37415994e-02   2.62896193e-01  -2.63141216e-02  -1.45610755e-02\n",
      "   2.80541112e-02   3.04330277e-01   1.19621218e-02  -5.93394855e-01]\n",
      "Training\n",
      "Mean absolute error: 0.74\n",
      "Accuracy: 0.38\n",
      "Validation\n",
      "Mean absolute error: 0.72\n",
      "Accuracy: 0.39\n"
     ]
    }
   ],
   "source": [
    "from sklearn import datasets, linear_model\n",
    "from sklearn.metrics import mean_absolute_error\n",
    "\n",
    "# Create linear regression object\n",
    "regr = linear_model.Ridge(alpha = .5)\n",
    "\n",
    "# Train the model using training sets\n",
    "regr.fit(fvec_train, label_ord_train)\n",
    "\n",
    "# Make predictions using the testing set\n",
    "label_ord_pred = np.round(regr.predict(fvec_test)).astype(np.int)\n",
    "label_ord_pred[label_ord_pred<0]=0\n",
    "label_ord_pred[label_ord_pred>=num_classes]=num_classes-1\n",
    "\n",
    "label_ord_tr_pred = np.round(regr.predict(fvec_train)).astype(np.int)\n",
    "label_ord_tr_pred[label_ord_tr_pred<0]=0\n",
    "label_ord_tr_pred[label_ord_tr_pred>=num_classes]=num_classes-1\n",
    "\n",
    "# The coefficients\n",
    "print('Coefficients: \\n', regr.coef_)\n",
    "\n",
    "# The mean squared error\n",
    "print('Training')\n",
    "print(\"Mean absolute error: %.2f\"\n",
    "      % mean_absolute_error(label_ord_tr_pred, label_ord_train))\n",
    "\n",
    "#CCR \n",
    "print(\"Accuracy: %.2f\"\n",
    "      % np.mean(label_ord_tr_pred==label_ord_train))\n",
    "\n",
    "# The mean squared error\n",
    "print('Validation')\n",
    "print(\"Mean absolute error: %.2f\"\n",
    "      % mean_absolute_error(label_ord_pred, label_ord_test))\n",
    "\n",
    "#CCR \n",
    "print(\"Accuracy: %.2f\"\n",
    "      % np.mean(label_ord_pred==label_ord_test))"
   ]
  },
  {
   "cell_type": "code",
   "execution_count": 11,
   "metadata": {},
   "outputs": [
    {
     "name": "stdout",
     "output_type": "stream",
     "text": [
      "(array([241,   0, 181,   0,   0, 221,   0, 174,   0, 183]), array([ 0. ,  0.4,  0.8,  1.2,  1.6,  2. ,  2.4,  2.8,  3.2,  3.6,  4. ]))\n",
      "(array([203,   0, 199,   0,   0, 199,   0, 199,   0, 200]), array([ 0. ,  0.4,  0.8,  1.2,  1.6,  2. ,  2.4,  2.8,  3.2,  3.6,  4. ]))\n",
      "Coefficients: \n",
      " [ -1.88317491e-02   1.64733924e-02  -1.00358358e-01  -7.12058869e-02\n",
      "  -1.01446282e-02   2.00886136e+00   7.72151419e-03   1.67966693e-03\n",
      "  -1.51213653e-01  -3.32255414e-01  -3.06772015e-03   3.00310220e+00\n",
      "  -1.85726251e-02   3.62893444e-02  -9.81725267e-02  -6.81625413e-02\n",
      "   1.99362178e-03   2.35966383e+00  -1.72680852e-01   2.79800411e-03\n",
      "  -9.64941303e-03   1.53275991e-01  -1.90156013e-01  -3.18897837e-02\n",
      "  -5.37415994e-02   2.62896193e-01  -2.63141216e-02  -1.45610755e-02\n",
      "   2.80541112e-02   3.04330277e-01   1.19621218e-02  -5.93394855e-01]\n",
      "Training\n",
      "Mean absolute error: 0.69\n",
      "Accuracy: 0.53\n",
      "Validation\n",
      "Mean absolute error: 0.79\n",
      "Accuracy: 0.45\n"
     ]
    }
   ],
   "source": [
    "\n",
    "from sklearn.svm import SVC\n",
    "clf = SVC()\n",
    "\n",
    "clf.fit(fvec_train, label_ord_train)\n",
    "label_ord_pred = clf.predict(fvec_test)\n",
    "label_ord_tr_pred = clf.predict(fvec_train)\n",
    "print(np.histogram(label_ord_pred))\n",
    "print(np.histogram(label_ord_test))\n",
    "\n",
    "\n",
    "# The coefficients\n",
    "print('Coefficients: \\n', regr.coef_)\n",
    "\n",
    "\n",
    "# The mean squared error\n",
    "print('Training')\n",
    "print(\"Mean absolute error: %.2f\"\n",
    "      % mean_absolute_error(label_ord_tr_pred, label_ord_train))\n",
    "\n",
    "#CCR \n",
    "print(\"Accuracy: %.2f\"\n",
    "      % np.mean(label_ord_tr_pred==label_ord_train))\n",
    "\n",
    "# The mean squared error\n",
    "print('Validation')\n",
    "print(\"Mean absolute error: %.2f\"\n",
    "      % mean_absolute_error(label_ord_pred, label_ord_test))\n",
    "\n",
    "#CCR \n",
    "print(\"Accuracy: %.2f\"\n",
    "      % np.mean(label_ord_pred==label_ord_test))"
   ]
  },
  {
   "cell_type": "markdown",
   "metadata": {},
   "source": [
    "# MLP Network"
   ]
  },
  {
   "cell_type": "code",
   "execution_count": 13,
   "metadata": {},
   "outputs": [],
   "source": [
    "import tensorflow as tf\n",
    "\n",
    "label_test=np.eye(num_classes)[label_ord_test]\n",
    "label_train=np.eye(num_classes)[label_ord_train]"
   ]
  },
  {
   "cell_type": "code",
   "execution_count": 14,
   "metadata": {
    "collapsed": true
   },
   "outputs": [],
   "source": [
    "def mlp(x, hidden_sizes, activation_fn=tf.nn.relu,dropout_rate=.5,std_dev=1.0):\n",
    "    if not isinstance(hidden_sizes, (list, tuple)):\n",
    "        raise ValueError(\"hidden_sizes must be a list or a tuple\")\n",
    "        \n",
    "    scope_args = {'initializer': tf.random_normal_initializer(stddev=std_dev)}\n",
    "    \n",
    "    for k in range(len(hidden_sizes)-1):\n",
    "        layer_name=\"weights\"+str(k)\n",
    "        #FC layers\n",
    "        with tf.variable_scope(layer_name, **scope_args):\n",
    "            W = tf.get_variable('W', shape=[x.shape[-1], hidden_sizes[k]])\n",
    "            b = tf.get_variable('b', shape=[hidden_sizes[k]])\n",
    "            x = activation_fn(tf.matmul(x, W) + b)\n",
    "            #Dropout before the last layer\n",
    "            x = tf.nn.dropout(x, keep_prob=dropout_rate)\n",
    "    #Softmax layer\n",
    "    with tf.variable_scope('outlayer', **scope_args):\n",
    "        W = tf.get_variable('W', shape=[x.shape[-1], hidden_sizes[-1]])\n",
    "        b = tf.get_variable('b', shape=[hidden_sizes[-1]])\n",
    "        return tf.matmul(x, W) + b"
   ]
  },
  {
   "cell_type": "code",
   "execution_count": 17,
   "metadata": {
    "collapsed": true
   },
   "outputs": [],
   "source": [
    "'''fvec_n=fvec/np.round(np.max(label))\n",
    "label_n = label/np.round(np.max(label))'''\n",
    "def test_classification(model_function, learning_rate=0.1,num_iter=30000,num_log=2000):\n",
    "\n",
    "    with tf.Graph().as_default() as g:\n",
    "        # where are you going to allocate memory and perform computations\n",
    "        with tf.device(\"/cpu:0\"):\n",
    "            \n",
    "            # define model \"input placeholders\", i.e. variables that are\n",
    "            # going to be substituted with input data on train/test time\n",
    "            x_ = tf.placeholder(tf.float32, [None, fvec.shape[1]])\n",
    "            y_ = tf.placeholder(tf.float32, [None, num_classes])\n",
    "            y_logits = model_function(x_)\n",
    "            \n",
    "\n",
    "            loss = tf.reduce_mean(tf.nn.softmax_cross_entropy_with_logits(labels=y_,logits=y_logits))\n",
    "            '''train_step = tf.train.GradientDescentOptimizer(learning_rate=learning_rate).minimize(loss)'''\n",
    "            train_step = tf.train.AdamOptimizer(learning_rate=learning_rate).minimize(loss)\n",
    "           \n",
    "            y_pred = tf.argmax(y_logits, 1)\n",
    "            y_true = tf.argmax(y_,1)\n",
    "            correct_prediction = tf.equal(y_pred, y_true)\n",
    "            accuracy = tf.reduce_mean(tf.cast(correct_prediction, tf.float32))\n",
    "            mae_error = tf.reduce_mean(tf.cast(tf.abs(y_pred-y_true), tf.float32))\n",
    "\n",
    "    with g.as_default(), tf.Session() as sess:\n",
    "\n",
    "        sess.run(tf.global_variables_initializer())\n",
    "        \n",
    "        # train\n",
    "        ids=[i for i in range(128)]\n",
    "        for iter_i in range(num_iter+1):\n",
    "            batch_xs = fvec_train[ids,:] \n",
    "            batch_ys = label_train[ids]\n",
    "            ids=[(ids[0]+100+i)%label_train.shape[0] for i in range(100)]\n",
    "            sess.run(train_step, feed_dict={x_: batch_xs, y_: batch_ys})\n",
    "            \n",
    "            # test trained model\n",
    "            if iter_i % num_log == 0:\n",
    "                tf_feed_dict = {x_: fvec_train, y_: label_train}\n",
    "                loss_tr, acc_tr, mae_tr, y_pred_tr,y_true_tr= sess.run(\n",
    "                    [loss, accuracy, mae_error, y_pred,y_true], feed_dict=tf_feed_dict)\n",
    "                tf_feed_dict = {x_: fvec_test, y_: label_test}\n",
    "                loss_val, acc_val, mae_val, y_pred_val,y_true_val= sess.run(\n",
    "                    [loss, accuracy, mae_error, y_pred,y_true], feed_dict=tf_feed_dict)\n",
    "                print('iteration %d\\t Training: loss: %.5f\\t MAE: %.5f\\t acc: %.5f\\t, Validation: loss: %.5f\\t MAE: %.5f\\t acc: %.5f\\t'%\n",
    "                      (iter_i, loss_tr, mae_tr, acc_tr, loss_val, mae_val, acc_val))\n",
    "                '''loss_val= sess.run(loss, feed_dict=tf_feed_dict)\n",
    "                print('iteration %d\\t loss: %.5f\\t MAE: %.5f\\t acc: %.5f\\t'%\n",
    "                      (iter_i, loss_val, loss_val, loss_val))'''"
   ]
  },
  {
   "cell_type": "code",
   "execution_count": null,
   "metadata": {
    "collapsed": true
   },
   "outputs": [],
   "source": []
  },
  {
   "cell_type": "code",
   "execution_count": 18,
   "metadata": {
    "scrolled": true
   },
   "outputs": [
    {
     "name": "stdout",
     "output_type": "stream",
     "text": [
      "iteration 0\t Training: loss: 1.61273\t MAE: 1.35623\t acc: 0.19702\t, Validation: loss: 1.61241\t MAE: 1.35700\t acc: 0.19200\t\n",
      "iteration 2000\t Training: loss: 1.47498\t MAE: 1.13140\t acc: 0.35053\t, Validation: loss: 1.44077\t MAE: 1.10400\t acc: 0.36000\t\n",
      "iteration 4000\t Training: loss: 1.42999\t MAE: 1.10428\t acc: 0.35428\t, Validation: loss: 1.45174\t MAE: 1.10300\t acc: 0.35800\t\n",
      "iteration 6000\t Training: loss: 1.40367\t MAE: 0.99486\t acc: 0.37625\t, Validation: loss: 1.37136\t MAE: 0.93600\t acc: 0.40500\t\n",
      "iteration 8000\t Training: loss: 1.38688\t MAE: 0.99819\t acc: 0.38181\t, Validation: loss: 1.45761\t MAE: 0.96700\t acc: 0.39100\t\n"
     ]
    },
    {
     "ename": "KeyboardInterrupt",
     "evalue": "",
     "output_type": "error",
     "traceback": [
      "\u001b[0;31m---------------------------------------------------------------------------\u001b[0m",
      "\u001b[0;31mKeyboardInterrupt\u001b[0m                         Traceback (most recent call last)",
      "\u001b[0;32m<ipython-input-18-e2b1cd43df2f>\u001b[0m in \u001b[0;36m<module>\u001b[0;34m()\u001b[0m\n\u001b[1;32m      1\u001b[0m test_classification(\n\u001b[1;32m      2\u001b[0m     \u001b[0;32mlambda\u001b[0m \u001b[0mx\u001b[0m\u001b[0;34m:\u001b[0m \u001b[0mmlp\u001b[0m\u001b[0;34m(\u001b[0m\u001b[0mx\u001b[0m\u001b[0;34m,\u001b[0m \u001b[0;34m[\u001b[0m\u001b[0;36m32\u001b[0m\u001b[0;34m,\u001b[0m \u001b[0;36m16\u001b[0m\u001b[0;34m,\u001b[0m \u001b[0;36m16\u001b[0m\u001b[0;34m,\u001b[0m \u001b[0;36m12\u001b[0m\u001b[0;34m,\u001b[0m \u001b[0;36m12\u001b[0m\u001b[0;34m,\u001b[0m \u001b[0;36m8\u001b[0m\u001b[0;34m,\u001b[0m \u001b[0;36m8\u001b[0m\u001b[0;34m,\u001b[0m \u001b[0;36m5\u001b[0m\u001b[0;34m]\u001b[0m\u001b[0;34m,\u001b[0m \u001b[0mactivation_fn\u001b[0m\u001b[0;34m=\u001b[0m\u001b[0mtf\u001b[0m\u001b[0;34m.\u001b[0m\u001b[0mnn\u001b[0m\u001b[0;34m.\u001b[0m\u001b[0mrelu\u001b[0m\u001b[0;34m,\u001b[0m\u001b[0mstd_dev\u001b[0m\u001b[0;34m=\u001b[0m\u001b[0;36m.1\u001b[0m\u001b[0;34m)\u001b[0m\u001b[0;34m,\u001b[0m\u001b[0;34m\u001b[0m\u001b[0m\n\u001b[0;32m----> 3\u001b[0;31m     learning_rate=1e-3,num_iter=100000,num_log=2000)\n\u001b[0m",
      "\u001b[0;32m<ipython-input-17-39ff4550697f>\u001b[0m in \u001b[0;36mtest_classification\u001b[0;34m(model_function, learning_rate, num_iter, num_log)\u001b[0m\n\u001b[1;32m     34\u001b[0m             \u001b[0mbatch_ys\u001b[0m \u001b[0;34m=\u001b[0m \u001b[0mlabel_train\u001b[0m\u001b[0;34m[\u001b[0m\u001b[0mids\u001b[0m\u001b[0;34m]\u001b[0m\u001b[0;34m\u001b[0m\u001b[0m\n\u001b[1;32m     35\u001b[0m             \u001b[0mids\u001b[0m\u001b[0;34m=\u001b[0m\u001b[0;34m[\u001b[0m\u001b[0;34m(\u001b[0m\u001b[0mids\u001b[0m\u001b[0;34m[\u001b[0m\u001b[0;36m0\u001b[0m\u001b[0;34m]\u001b[0m\u001b[0;34m+\u001b[0m\u001b[0;36m100\u001b[0m\u001b[0;34m+\u001b[0m\u001b[0mi\u001b[0m\u001b[0;34m)\u001b[0m\u001b[0;34m%\u001b[0m\u001b[0mlabel_train\u001b[0m\u001b[0;34m.\u001b[0m\u001b[0mshape\u001b[0m\u001b[0;34m[\u001b[0m\u001b[0;36m0\u001b[0m\u001b[0;34m]\u001b[0m \u001b[0;32mfor\u001b[0m \u001b[0mi\u001b[0m \u001b[0;32min\u001b[0m \u001b[0mrange\u001b[0m\u001b[0;34m(\u001b[0m\u001b[0;36m100\u001b[0m\u001b[0;34m)\u001b[0m\u001b[0;34m]\u001b[0m\u001b[0;34m\u001b[0m\u001b[0m\n\u001b[0;32m---> 36\u001b[0;31m             \u001b[0msess\u001b[0m\u001b[0;34m.\u001b[0m\u001b[0mrun\u001b[0m\u001b[0;34m(\u001b[0m\u001b[0mtrain_step\u001b[0m\u001b[0;34m,\u001b[0m \u001b[0mfeed_dict\u001b[0m\u001b[0;34m=\u001b[0m\u001b[0;34m{\u001b[0m\u001b[0mx_\u001b[0m\u001b[0;34m:\u001b[0m \u001b[0mbatch_xs\u001b[0m\u001b[0;34m,\u001b[0m \u001b[0my_\u001b[0m\u001b[0;34m:\u001b[0m \u001b[0mbatch_ys\u001b[0m\u001b[0;34m}\u001b[0m\u001b[0;34m)\u001b[0m\u001b[0;34m\u001b[0m\u001b[0m\n\u001b[0m\u001b[1;32m     37\u001b[0m \u001b[0;34m\u001b[0m\u001b[0m\n\u001b[1;32m     38\u001b[0m             \u001b[0;31m# test trained model\u001b[0m\u001b[0;34m\u001b[0m\u001b[0;34m\u001b[0m\u001b[0m\n",
      "\u001b[0;32m/Users/ozan-macbook-air/anaconda/lib/python3.6/site-packages/tensorflow/python/client/session.py\u001b[0m in \u001b[0;36mrun\u001b[0;34m(self, fetches, feed_dict, options, run_metadata)\u001b[0m\n\u001b[1;32m    893\u001b[0m     \u001b[0;32mtry\u001b[0m\u001b[0;34m:\u001b[0m\u001b[0;34m\u001b[0m\u001b[0m\n\u001b[1;32m    894\u001b[0m       result = self._run(None, fetches, feed_dict, options_ptr,\n\u001b[0;32m--> 895\u001b[0;31m                          run_metadata_ptr)\n\u001b[0m\u001b[1;32m    896\u001b[0m       \u001b[0;32mif\u001b[0m \u001b[0mrun_metadata\u001b[0m\u001b[0;34m:\u001b[0m\u001b[0;34m\u001b[0m\u001b[0m\n\u001b[1;32m    897\u001b[0m         \u001b[0mproto_data\u001b[0m \u001b[0;34m=\u001b[0m \u001b[0mtf_session\u001b[0m\u001b[0;34m.\u001b[0m\u001b[0mTF_GetBuffer\u001b[0m\u001b[0;34m(\u001b[0m\u001b[0mrun_metadata_ptr\u001b[0m\u001b[0;34m)\u001b[0m\u001b[0;34m\u001b[0m\u001b[0m\n",
      "\u001b[0;32m/Users/ozan-macbook-air/anaconda/lib/python3.6/site-packages/tensorflow/python/client/session.py\u001b[0m in \u001b[0;36m_run\u001b[0;34m(self, handle, fetches, feed_dict, options, run_metadata)\u001b[0m\n\u001b[1;32m   1115\u001b[0m     \u001b[0;31m# TODO(yuanbyu, keveman): Revisit whether we should just treat feeding\u001b[0m\u001b[0;34m\u001b[0m\u001b[0;34m\u001b[0m\u001b[0m\n\u001b[1;32m   1116\u001b[0m     \u001b[0;31m# of a handle from a different device as an error.\u001b[0m\u001b[0;34m\u001b[0m\u001b[0;34m\u001b[0m\u001b[0m\n\u001b[0;32m-> 1117\u001b[0;31m     \u001b[0m_\u001b[0m \u001b[0;34m=\u001b[0m \u001b[0mself\u001b[0m\u001b[0;34m.\u001b[0m\u001b[0m_update_with_movers\u001b[0m\u001b[0;34m(\u001b[0m\u001b[0mfeed_dict_tensor\u001b[0m\u001b[0;34m,\u001b[0m \u001b[0mfeed_map\u001b[0m\u001b[0;34m)\u001b[0m\u001b[0;34m\u001b[0m\u001b[0m\n\u001b[0m\u001b[1;32m   1118\u001b[0m     \u001b[0mfinal_fetches\u001b[0m \u001b[0;34m=\u001b[0m \u001b[0mfetch_handler\u001b[0m\u001b[0;34m.\u001b[0m\u001b[0mfetches\u001b[0m\u001b[0;34m(\u001b[0m\u001b[0;34m)\u001b[0m\u001b[0;34m\u001b[0m\u001b[0m\n\u001b[1;32m   1119\u001b[0m     \u001b[0mfinal_targets\u001b[0m \u001b[0;34m=\u001b[0m \u001b[0mfetch_handler\u001b[0m\u001b[0;34m.\u001b[0m\u001b[0mtargets\u001b[0m\u001b[0;34m(\u001b[0m\u001b[0;34m)\u001b[0m\u001b[0;34m\u001b[0m\u001b[0m\n",
      "\u001b[0;32m/Users/ozan-macbook-air/anaconda/lib/python3.6/site-packages/tensorflow/python/client/session.py\u001b[0m in \u001b[0;36m_update_with_movers\u001b[0;34m(self, feed_dict, feed_map)\u001b[0m\n\u001b[1;32m   1389\u001b[0m     \u001b[0mhandle_movers\u001b[0m \u001b[0;34m=\u001b[0m \u001b[0;34m[\u001b[0m\u001b[0;34m]\u001b[0m\u001b[0;34m\u001b[0m\u001b[0m\n\u001b[1;32m   1390\u001b[0m     \u001b[0;32mfor\u001b[0m \u001b[0mfeed_name\u001b[0m\u001b[0;34m,\u001b[0m \u001b[0mval\u001b[0m \u001b[0;32min\u001b[0m \u001b[0mfeed_map\u001b[0m\u001b[0;34m.\u001b[0m\u001b[0mitems\u001b[0m\u001b[0;34m(\u001b[0m\u001b[0;34m)\u001b[0m\u001b[0;34m:\u001b[0m\u001b[0;34m\u001b[0m\u001b[0m\n\u001b[0;32m-> 1391\u001b[0;31m       \u001b[0mmover\u001b[0m \u001b[0;34m=\u001b[0m \u001b[0msession_ops\u001b[0m\u001b[0;34m.\u001b[0m\u001b[0m_get_handle_mover\u001b[0m\u001b[0;34m(\u001b[0m\u001b[0mself\u001b[0m\u001b[0;34m.\u001b[0m\u001b[0mgraph\u001b[0m\u001b[0;34m,\u001b[0m \u001b[0;34m*\u001b[0m\u001b[0mval\u001b[0m\u001b[0;34m)\u001b[0m\u001b[0;34m\u001b[0m\u001b[0m\n\u001b[0m\u001b[1;32m   1392\u001b[0m       \u001b[0;32mif\u001b[0m \u001b[0mmover\u001b[0m\u001b[0;34m:\u001b[0m\u001b[0;34m\u001b[0m\u001b[0m\n\u001b[1;32m   1393\u001b[0m         \u001b[0mhandle_movers\u001b[0m\u001b[0;34m.\u001b[0m\u001b[0mappend\u001b[0m\u001b[0;34m(\u001b[0m\u001b[0;34m(\u001b[0m\u001b[0mfeed_name\u001b[0m\u001b[0;34m,\u001b[0m \u001b[0mval\u001b[0m\u001b[0;34m[\u001b[0m\u001b[0;36m1\u001b[0m\u001b[0;34m]\u001b[0m\u001b[0;34m,\u001b[0m \u001b[0mmover\u001b[0m\u001b[0;34m)\u001b[0m\u001b[0;34m)\u001b[0m\u001b[0;34m\u001b[0m\u001b[0m\n",
      "\u001b[0;31mKeyboardInterrupt\u001b[0m: "
     ]
    }
   ],
   "source": [
    "test_classification(\n",
    "    lambda x: mlp(x, [32, 16, 16, 12, 12, 8, 8, 5], activation_fn=tf.nn.relu,std_dev=.1), \n",
    "    learning_rate=1e-3,num_iter=100000,num_log=2000)\n"
   ]
  },
  {
   "cell_type": "code",
   "execution_count": null,
   "metadata": {
    "collapsed": true
   },
   "outputs": [],
   "source": [
    "test_classification(\n",
    "    lambda x: mlp(x, [32, 16, 12, 8, 5], activation_fn=tf.nn.relu,std_dev=.1), \n",
    "    learning_rate=1e-3,num_iter=500000,num_log=10000)\n",
    "test_classification(\n",
    "    lambda x: mlp(x, [32, 16, 12, 8, 5], activation_fn=tf.nn.relu,std_dev=.1), \n",
    "    learning_rate=1e-4,num_iter=500000,num_log=10000)\n",
    "test_classification(\n",
    "    lambda x: mlp(x, [32, 16, 8, 5], activation_fn=tf.nn.relu,std_dev=.1), \n",
    "    learning_rate=1e-3,num_iter=500000,num_log=10000)"
   ]
  },
  {
   "cell_type": "code",
   "execution_count": null,
   "metadata": {
    "collapsed": true
   },
   "outputs": [],
   "source": [
    "test_classification(\n",
    "    lambda x: mlp(x, [16, 12, 8, 5], activation_fn=tf.nn.relu,std_dev=.1), \n",
    "    learning_rate=1e-3,num_iter=1000000,num_log=10000)\n"
   ]
  },
  {
   "cell_type": "code",
   "execution_count": null,
   "metadata": {
    "collapsed": true
   },
   "outputs": [],
   "source": [
    "test_classification(\n",
    "    lambda x: mlp(x, [16, 12, 8, 5], activation_fn=tf.nn.relu,std_dev=.1), \n",
    "    learning_rate=5e-4,num_iter=300000,num_log=10000)"
   ]
  }
 ],
 "metadata": {
  "kernelspec": {
   "display_name": "Python 3",
   "language": "python",
   "name": "python3"
  },
  "language_info": {
   "codemirror_mode": {
    "name": "ipython",
    "version": 3
   },
   "file_extension": ".py",
   "mimetype": "text/x-python",
   "name": "python",
   "nbconvert_exporter": "python",
   "pygments_lexer": "ipython3",
   "version": "3.6.1"
  }
 },
 "nbformat": 4,
 "nbformat_minor": 2
}
